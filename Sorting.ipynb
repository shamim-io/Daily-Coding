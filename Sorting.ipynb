{
  "nbformat": 4,
  "nbformat_minor": 0,
  "metadata": {
    "colab": {
      "name": "Sorting.ipynb",
      "provenance": [],
      "collapsed_sections": [],
      "authorship_tag": "ABX9TyMTN41N4VweGs3yHNKkrjep",
      "include_colab_link": true
    },
    "kernelspec": {
      "name": "python3",
      "display_name": "Python 3"
    }
  },
  "cells": [
    {
      "cell_type": "markdown",
      "metadata": {
        "id": "view-in-github",
        "colab_type": "text"
      },
      "source": [
        "<a href=\"https://colab.research.google.com/github/shamim-io/Daily-Coding/blob/main/Sorting.ipynb\" target=\"_parent\"><img src=\"https://colab.research.google.com/assets/colab-badge.svg\" alt=\"Open In Colab\"/></a>"
      ]
    },
    {
      "cell_type": "markdown",
      "metadata": {
        "id": "AdoKt8gsxnhY"
      },
      "source": [
        "## Sorting: Bubble Sort: Reutrn no of swaps, greatest and the smallest element\r\n"
      ]
    },
    {
      "cell_type": "code",
      "metadata": {
        "colab": {
          "base_uri": "https://localhost:8080/"
        },
        "id": "3xC2VFCcxbZq",
        "outputId": "4bb79ba3-00d9-4864-d8d3-a0a76fa4b8bb"
      },
      "source": [
        "arr = [3,2,4,8,9,5,1]\r\n",
        "count = 0\r\n",
        "min = 9999\r\n",
        "max = -9999\r\n",
        "\r\n",
        "for i in range(len(arr)):\r\n",
        "  for j in range(len(arr) - 1):\r\n",
        "    if arr[j] > arr[j+1]:\r\n",
        "      temp = arr[j]\r\n",
        "      arr[j] = arr[j+1]\r\n",
        "      arr[j+1] = temp\r\n",
        "      count += 1\r\n",
        "\r\n",
        "    if arr[i] < min:\r\n",
        "      min = arr[i]\r\n",
        "    if arr[i] > max:\r\n",
        "      max = arr[i]\r\n",
        "\r\n",
        "print(count, min, max)"
      ],
      "execution_count": 4,
      "outputs": [
        {
          "output_type": "stream",
          "text": [
            "9 1 9\n"
          ],
          "name": "stdout"
        }
      ]
    },
    {
      "cell_type": "markdown",
      "metadata": {
        "id": "_OtBr9lg5X13"
      },
      "source": [
        "## Mark and Toys"
      ]
    },
    {
      "cell_type": "code",
      "metadata": {
        "colab": {
          "base_uri": "https://localhost:8080/"
        },
        "id": "FejBFPAOy4Ul",
        "outputId": "3f3dad6e-d5e9-4945-b170-272fdc26fd98"
      },
      "source": [
        "arr = [1, 12, 5, 111, 200, 1000, 10 ]\r\n",
        "cost = 50\r\n",
        "count = num = 0\r\n",
        "arr.sort()\r\n",
        "\r\n",
        "for i in arr:\r\n",
        "  temp = count + i\r\n",
        "  if temp <= cost:\r\n",
        "    count += i\r\n",
        "    num += 1\r\n",
        "\r\n",
        "print(count, num)"
      ],
      "execution_count": 2,
      "outputs": [
        {
          "output_type": "stream",
          "text": [
            "28 4\n"
          ],
          "name": "stdout"
        }
      ]
    },
    {
      "cell_type": "markdown",
      "metadata": {
        "id": "SgFLNqy0mC0n"
      },
      "source": [
        "## Sorting: Comparator"
      ]
    },
    {
      "cell_type": "code",
      "metadata": {
        "id": "Rpt0KIrv8mek"
      },
      "source": [
        "arr = ['amy 100', 'david 100', heraldo 50\r\n",
        "aakansha 75\r\n",
        "aleksa 150"
      ],
      "execution_count": null,
      "outputs": []
    }
  ]
}
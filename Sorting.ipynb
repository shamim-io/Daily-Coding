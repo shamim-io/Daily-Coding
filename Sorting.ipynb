{
  "nbformat": 4,
  "nbformat_minor": 0,
  "metadata": {
    "colab": {
      "name": "Sorting.ipynb",
      "provenance": [],
      "collapsed_sections": [],
      "authorship_tag": "ABX9TyOe6zxvtRjdZzfQmfJkITMs",
      "include_colab_link": true
    },
    "kernelspec": {
      "name": "python3",
      "display_name": "Python 3"
    }
  },
  "cells": [
    {
      "cell_type": "markdown",
      "metadata": {
        "id": "view-in-github",
        "colab_type": "text"
      },
      "source": [
        "<a href=\"https://colab.research.google.com/github/shamim-io/Daily-Coding/blob/main/Sorting.ipynb\" target=\"_parent\"><img src=\"https://colab.research.google.com/assets/colab-badge.svg\" alt=\"Open In Colab\"/></a>"
      ]
    },
    {
      "cell_type": "markdown",
      "metadata": {
        "id": "AdoKt8gsxnhY"
      },
      "source": [
        "## Sorting: Bubble Sort: Reutrn no of swaps, greatest and the smallest element\r\n"
      ]
    },
    {
      "cell_type": "code",
      "metadata": {
        "colab": {
          "base_uri": "https://localhost:8080/"
        },
        "id": "3xC2VFCcxbZq",
        "outputId": "4bb79ba3-00d9-4864-d8d3-a0a76fa4b8bb"
      },
      "source": [
        "arr = [3,2,4,8,9,5,1]\r\n",
        "count = 0\r\n",
        "min = 9999\r\n",
        "max = -9999\r\n",
        "\r\n",
        "for i in range(len(arr)):\r\n",
        "  for j in range(len(arr) - 1):\r\n",
        "    if arr[j] > arr[j+1]:\r\n",
        "      temp = arr[j]\r\n",
        "      arr[j] = arr[j+1]\r\n",
        "      arr[j+1] = temp\r\n",
        "      count += 1\r\n",
        "\r\n",
        "    if arr[i] < min:\r\n",
        "      min = arr[i]\r\n",
        "    if arr[i] > max:\r\n",
        "      max = arr[i]\r\n",
        "\r\n",
        "print(count, min, max)"
      ],
      "execution_count": null,
      "outputs": [
        {
          "output_type": "stream",
          "text": [
            "9 1 9\n"
          ],
          "name": "stdout"
        }
      ]
    },
    {
      "cell_type": "markdown",
      "metadata": {
        "id": "_OtBr9lg5X13"
      },
      "source": [
        "## Mark and Toys"
      ]
    },
    {
      "cell_type": "code",
      "metadata": {
        "colab": {
          "base_uri": "https://localhost:8080/"
        },
        "id": "FejBFPAOy4Ul",
        "outputId": "3f3dad6e-d5e9-4945-b170-272fdc26fd98"
      },
      "source": [
        "arr = [1, 12, 5, 111, 200, 1000, 10 ]\r\n",
        "cost = 50\r\n",
        "count = num = 0\r\n",
        "arr.sort()\r\n",
        "\r\n",
        "for i in arr:\r\n",
        "  temp = count + i\r\n",
        "  if temp <= cost:\r\n",
        "    count += i\r\n",
        "    num += 1\r\n",
        "\r\n",
        "print(count, num)"
      ],
      "execution_count": null,
      "outputs": [
        {
          "output_type": "stream",
          "text": [
            "28 4\n"
          ],
          "name": "stdout"
        }
      ]
    },
    {
      "cell_type": "markdown",
      "metadata": {
        "id": "SgFLNqy0mC0n"
      },
      "source": [
        "## Sorting: Comparator"
      ]
    },
    {
      "cell_type": "code",
      "metadata": {
        "id": "Rpt0KIrv8mek",
        "colab": {
          "base_uri": "https://localhost:8080/"
        },
        "outputId": "e129ee0f-7107-454a-f393-5d6ca9e4179d"
      },
      "source": [
        "arr1 = []\r\n",
        "arr = ['amy 100', 'david 100', 'heraldo 50', 'aakansha 75', 'aleksa 150']\r\n",
        "\r\n",
        "for i in range(len(arr)):\r\n",
        "  for j in range(len(arr)):\r\n",
        "    if int(arr[j].split(' ')[1]) < int(arr[i].split(' ')[1]):\r\n",
        "      temp = arr[i]\r\n",
        "      arr[i] = arr[j]\r\n",
        "      arr[j] = temp\r\n",
        "    if int(arr[j].split(' ')[1]) == int(arr[i].split(' ')[1]):\r\n",
        "      if arr[j] > arr[i]:\r\n",
        "        temp = arr[i]\r\n",
        "        arr[i] = arr[j]\r\n",
        "        arr[j] = temp\r\n",
        "arr"
      ],
      "execution_count": null,
      "outputs": [
        {
          "output_type": "execute_result",
          "data": {
            "text/plain": [
              "['aleksa 150', 'amy 100', 'david 100', 'aakansha 75', 'heraldo 50']"
            ]
          },
          "metadata": {
            "tags": []
          },
          "execution_count": 14
        }
      ]
    },
    {
      "cell_type": "markdown",
      "metadata": {
        "id": "oFDvOB_HTYwB"
      },
      "source": [
        "## Fraudulent Activity Notifications:"
      ]
    },
    {
      "cell_type": "code",
      "metadata": {
        "colab": {
          "base_uri": "https://localhost:8080/"
        },
        "id": "QXe4ZmcREDf1",
        "outputId": "9101f8b9-183f-4a14-8349-f5232eb9b31f"
      },
      "source": [
        "day =  5\r\n",
        "arr = [2, 3, 4, 2, 3, 6, 8, 4, 5]\r\n",
        "# arr = [10, 20, 30, 40, 50]\r\n",
        "i = noti = 0\r\n",
        "while (i+day) < len(arr):\r\n",
        "  arr1 = arr[i:i+day]\r\n",
        "  arr1.sort()\r\n",
        "  med = arr1[len(arr1)//2]\r\n",
        "  if arr[i+day] >= 2*med:\r\n",
        "    noti += 1\r\n",
        "  i += 1\r\n",
        "print(noti)"
      ],
      "execution_count": null,
      "outputs": [
        {
          "output_type": "stream",
          "text": [
            "2\n"
          ],
          "name": "stdout"
        }
      ]
    },
    {
      "cell_type": "code",
      "metadata": {
        "colab": {
          "base_uri": "https://localhost:8080/"
        },
        "id": "gLqOTPHkfjEH",
        "outputId": "7481762e-ea84-475c-8123-b332d985a5d2"
      },
      "source": [
        "3//2"
      ],
      "execution_count": null,
      "outputs": [
        {
          "output_type": "execute_result",
          "data": {
            "text/plain": [
              "1"
            ]
          },
          "metadata": {
            "tags": []
          },
          "execution_count": 36
        }
      ]
    },
    {
      "cell_type": "code",
      "metadata": {
        "colab": {
          "base_uri": "https://localhost:8080/"
        },
        "id": "I-v-Mmc6jHOE",
        "outputId": "097f7969-fa3a-46f6-df27-ae1a971a3554"
      },
      "source": [
        "4//2"
      ],
      "execution_count": null,
      "outputs": [
        {
          "output_type": "execute_result",
          "data": {
            "text/plain": [
              "2"
            ]
          },
          "metadata": {
            "tags": []
          },
          "execution_count": 37
        }
      ]
    },
    {
      "cell_type": "code",
      "metadata": {
        "id": "1r3KXLZKjPKf"
      },
      "source": [
        ""
      ],
      "execution_count": null,
      "outputs": []
    }
  ]
}
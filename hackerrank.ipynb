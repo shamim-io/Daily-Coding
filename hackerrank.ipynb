{
  "nbformat": 4,
  "nbformat_minor": 0,
  "metadata": {
    "colab": {
      "name": "hackerrank.ipynb",
      "provenance": [],
      "collapsed_sections": [],
      "authorship_tag": "ABX9TyM6ZKkvUb7BVvQKW2UMR+bI",
      "include_colab_link": true
    },
    "kernelspec": {
      "name": "python3",
      "display_name": "Python 3"
    }
  },
  "cells": [
    {
      "cell_type": "markdown",
      "metadata": {
        "id": "view-in-github",
        "colab_type": "text"
      },
      "source": [
        "<a href=\"https://colab.research.google.com/github/shamim-io/Daily-Coding/blob/main/hackerrank.ipynb\" target=\"_parent\"><img src=\"https://colab.research.google.com/assets/colab-badge.svg\" alt=\"Open In Colab\"/></a>"
      ]
    },
    {
      "cell_type": "markdown",
      "metadata": {
        "id": "vPQVuR7QzCH4"
      },
      "source": [
        "## Hour Glass problem"
      ]
    },
    {
      "cell_type": "code",
      "metadata": {
        "colab": {
          "base_uri": "https://localhost:8080/"
        },
        "id": "-0LjCxNPp5rs",
        "outputId": "3ce499ed-3dc2-4a00-8e24-b7f0f175bc9d"
      },
      "source": [
        "arr = [[1, 1, 1, 0, 0, 0],\r\n",
        "[0, 1, 0, 0, 0, 0],\r\n",
        "[1, 1, 1, 0, 0, 0],\r\n",
        "[0, 0, 2, 4, 4, 0],\r\n",
        "[0, 0, 0, 2, 0, 0],\r\n",
        "[0, 0, 1, 2, 4, 0]]\r\n",
        "\r\n",
        "print(arr)"
      ],
      "execution_count": null,
      "outputs": [
        {
          "output_type": "stream",
          "text": [
            "[[1, 1, 1, 0, 0, 0], [0, 1, 0, 0, 0, 0], [1, 1, 1, 0, 0, 0], [0, 0, 2, 4, 4, 0], [0, 0, 0, 2, 0, 0], [0, 0, 1, 2, 4, 0]]\n"
          ],
          "name": "stdout"
        }
      ]
    },
    {
      "cell_type": "code",
      "metadata": {
        "colab": {
          "base_uri": "https://localhost:8080/"
        },
        "id": "p9upmqOBqaCl",
        "outputId": "56bcf5f3-dc97-4b1f-b188-99acd240f34c"
      },
      "source": [
        "sum = []\r\n",
        "for i in range(len(arr) - 2):\r\n",
        "  for j in range(len(arr) - 2):\r\n",
        "    sum.append(arr[i][j] + arr[i][j+1] + arr[i][j+2] + arr[i+1][j+1] + arr[i+2][j] + arr[i+2][j+1] + arr[i+2][j+2])\r\n",
        "print(max(sum))\r\n"
      ],
      "execution_count": null,
      "outputs": [
        {
          "output_type": "stream",
          "text": [
            "[7, 4, 2, 0, 4, 8, 10, 8, 3, 6, 7, 6, 3, 9, 19, 14]\n"
          ],
          "name": "stdout"
        }
      ]
    },
    {
      "cell_type": "code",
      "metadata": {
        "id": "ec5BqVoQrNnC"
      },
      "source": [
        ""
      ],
      "execution_count": null,
      "outputs": []
    },
    {
      "cell_type": "markdown",
      "metadata": {
        "id": "wbE0ojZ1pEZm"
      },
      "source": [
        "## Arrays: Left Rotation"
      ]
    },
    {
      "cell_type": "code",
      "metadata": {
        "colab": {
          "base_uri": "https://localhost:8080/"
        },
        "id": "eqiqlFS0IjWu",
        "outputId": "a38c2db2-2f87-4008-8883-7768d79b7709"
      },
      "source": [
        "arr = [1,2,3,4,5]\r\n",
        "r = 4\r\n",
        "temp = 0\r\n",
        "\r\n",
        "for i in range(r):\r\n",
        "  temp = arr[0]\r\n",
        "  for j in range(1,len(arr)):\r\n",
        "    arr[j-1] = arr[j]\r\n",
        "  arr[len(arr) - 1] = temp\r\n",
        "print(arr)"
      ],
      "execution_count": null,
      "outputs": [
        {
          "output_type": "stream",
          "text": [
            "[5, 1, 2, 3, 4]\n"
          ],
          "name": "stdout"
        }
      ]
    },
    {
      "cell_type": "code",
      "metadata": {
        "colab": {
          "base_uri": "https://localhost:8080/"
        },
        "id": "Xub5a-mYMHG3",
        "outputId": "a30f6195-f5b0-48dd-8868-89ce21207a40"
      },
      "source": [
        "arr = [1,2,3,4,5]\r\n",
        "move = len(arr) - ((len(arr) - r) % len(arr))\r\n",
        "arr1 = arr\r\n",
        "arr2 = arr1[move:]  + arr1[:move]\r\n",
        "arr2"
      ],
      "execution_count": null,
      "outputs": [
        {
          "output_type": "execute_result",
          "data": {
            "text/plain": [
              "[5, 1, 2, 3, 4]"
            ]
          },
          "metadata": {
            "tags": []
          },
          "execution_count": 36
        }
      ]
    },
    {
      "cell_type": "markdown",
      "metadata": {
        "id": "oiJf5h7ff7Wu"
      },
      "source": [
        "## Minimum swaps"
      ]
    },
    {
      "cell_type": "code",
      "metadata": {
        "id": "HzI66k45nk3x",
        "colab": {
          "base_uri": "https://localhost:8080/"
        },
        "outputId": "b7b60969-3cbf-4a25-ce28-1102529761ce"
      },
      "source": [
        "arr = [4, 3, 1, 2]\r\n",
        "# arr = [1, 3, 5, 2, 4, 6, 7]\r\n",
        "cnt = 0\r\n",
        "\r\n",
        "for i in range(2, len(arr)):\r\n",
        "  if arr[i-1] < arr[i-2] and arr[i-1] < arr[i] :\r\n",
        "    for j in range(i):\r\n",
        "      if arr[j] > arr[i-1]:\r\n",
        "        temp = arr[j]\r\n",
        "        arr[j] = arr[i-1]\r\n",
        "        arr[i-1] = temp\r\n",
        "        cnt += 1\r\n",
        "        print(arr)\r\n",
        "\r\n",
        "print(cnt)"
      ],
      "execution_count": null,
      "outputs": [
        {
          "output_type": "stream",
          "text": [
            "[1, 3, 4, 2]\n",
            "1\n"
          ],
          "name": "stdout"
        }
      ]
    },
    {
      "cell_type": "markdown",
      "metadata": {
        "id": "n-AGYQ9TgCwi"
      },
      "source": [
        "## Hash Tables: Ransom Note\r\n",
        "\r\n"
      ]
    },
    {
      "cell_type": "code",
      "metadata": {
        "id": "8NDcBxT-SZTH"
      },
      "source": [
        "magazine = \"two times three is not four\"\r\n",
        "ransomNote = \"two times two is four\""
      ],
      "execution_count": 27,
      "outputs": []
    },
    {
      "cell_type": "code",
      "metadata": {
        "id": "wdbTvxz7gO-e"
      },
      "source": [
        "rn = ransomNote.split()\r\n",
        "mag = magazine.split()\r\n",
        "\r\n",
        "def canConstruct(ransomNote, magazine):\r\n",
        "    for i in range(len(note)):\r\n",
        "        if note[i] not in magazine:\r\n",
        "            print(\"No\")\r\n",
        "            return\r\n",
        "        elif note[i] in magazine:\r\n",
        "            magazine.remove(note[i])\r\n",
        "    print(\"Yes\")\r\n",
        "    "
      ],
      "execution_count": 28,
      "outputs": []
    },
    {
      "cell_type": "code",
      "metadata": {
        "colab": {
          "base_uri": "https://localhost:8080/",
          "height": 35
        },
        "id": "74lZi2Yu1odg",
        "outputId": "116e37cf-9a34-4ea9-eabd-e60bf55c4522"
      },
      "source": [
        "canConstruct(ransomNote, magazine)"
      ],
      "execution_count": 29,
      "outputs": [
        {
          "output_type": "execute_result",
          "data": {
            "application/vnd.google.colaboratory.intrinsic+json": {
              "type": "string"
            },
            "text/plain": [
              "'false'"
            ]
          },
          "metadata": {
            "tags": []
          },
          "execution_count": 29
        }
      ]
    },
    {
      "cell_type": "code",
      "metadata": {
        "id": "TC2le3tcQKtw"
      },
      "source": [
        "from collections import Counter\r\n",
        "\r\n",
        "# Complete the checkMagazine function below.\r\n",
        "def checkMagazine(magazine, note):\r\n",
        "    mag_counter = Counter (magazine)\r\n",
        "    for i, char in enumerate(note):\r\n",
        "        \r\n",
        "        if char not in mag_counter:\r\n",
        "            print(\"No\")\r\n",
        "            return\r\n",
        "        else: \r\n",
        "            if mag_counter[char] == 0:\r\n",
        "                print(\"No\")\r\n",
        "                return\r\n",
        "            else:\r\n",
        "                mag_counter[char] -= 1\r\n",
        "    print(\"Yes\")"
      ],
      "execution_count": null,
      "outputs": []
    },
    {
      "cell_type": "markdown",
      "metadata": {
        "id": "1bCuBz_RZPPg"
      },
      "source": [
        "## Two Strings"
      ]
    },
    {
      "cell_type": "code",
      "metadata": {
        "colab": {
          "base_uri": "https://localhost:8080/"
        },
        "id": "_GFuN-_KZQ4M",
        "outputId": "049a496e-117d-48f3-9303-a0ddc31e7557"
      },
      "source": [
        "s1 = \"mart\"\r\n",
        "s2 = \"art\"\r\n",
        "\r\n",
        "str1 = [i for i in s1]\r\n",
        "str2 = [i for i in s2]\r\n",
        "\r\n",
        "def strng(str1, str2):\r\n",
        "  for i in range(len(str1)):\r\n",
        "    if str1[i] in str2:\r\n",
        "      print(\"Yes\")\r\n",
        "      return\r\n",
        "  print(\"No\")\r\n",
        "    \r\n",
        "strng(str1, str2)"
      ],
      "execution_count": 61,
      "outputs": [
        {
          "output_type": "stream",
          "text": [
            "Yes\n"
          ],
          "name": "stdout"
        }
      ]
    },
    {
      "cell_type": "code",
      "metadata": {
        "colab": {
          "base_uri": "https://localhost:8080/"
        },
        "id": "AMXdkO55cBhc",
        "outputId": "47662d85-f951-4019-d5b2-cebb64bc79cf"
      },
      "source": [
        "s1 = \"mart\"\r\n",
        "s2 = \"gyguygu\"\r\n",
        "\r\n",
        "if set(s1).intersection(set(s2)):\r\n",
        "  print(\"Y\")\r\n",
        "else:\r\n",
        "  print(\"N\")"
      ],
      "execution_count": 67,
      "outputs": [
        {
          "output_type": "stream",
          "text": [
            "N\n"
          ],
          "name": "stdout"
        }
      ]
    },
    {
      "cell_type": "code",
      "metadata": {
        "id": "H9hbYkmjtpay"
      },
      "source": [
        ""
      ],
      "execution_count": null,
      "outputs": []
    }
  ]
}